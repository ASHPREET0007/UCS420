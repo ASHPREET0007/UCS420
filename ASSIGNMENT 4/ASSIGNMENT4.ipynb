{
 "cells": [
  {
   "cell_type": "markdown",
   "id": "af34d045-501a-4eaa-ae8b-719989e15a35",
   "metadata": {},
   "source": [
    "Q.1 Write a program to create a NumPy 1D-array with 5 elements and perform basic\n",
    "operations like:\n",
    "a) Addition of 2 in all the element\n",
    "b) Multiply 3 with all the elements\n",
    "c) Divide every element by 2"
   ]
  },
  {
   "cell_type": "code",
   "execution_count": 7,
   "id": "f853045f-2fe1-4c09-90c0-b5ecc9ef00b7",
   "metadata": {},
   "outputs": [
    {
     "name": "stdout",
     "output_type": "stream",
     "text": [
      "Original array is: [0 1 2 3 4]\n",
      "(a) Adding of 2 in all elements [2 3 4 5 6]\n",
      "(b) Multiplying 3 with all elements [ 0  3  6  9 12]\n",
      "(c) Dividing every element by 2 [0.  0.5 1.  1.5 2. ]\n"
     ]
    }
   ],
   "source": [
    "# Ans 1. Creating 1D array and performing operations on it\n",
    "import numpy as np\n",
    "a=np.array([0,1,2,3,4])\n",
    "print(f\"Original array is: {a}\")\n",
    "print(f\"(a) Adding of 2 in all elements {a+2}\")\n",
    "print(f\"(b) Multiplying 3 with all elements {a*3}\")\n",
    "print(f\"(c) Dividing every element by 2 {a/2.0}\")"
   ]
  },
  {
   "cell_type": "markdown",
   "id": "c5dc0b34-f313-4c45-995f-32ab65e41119",
   "metadata": {},
   "source": [
    "Q.2 Questions on Basic NumPy Array:\n",
    "a) Reverse the NumPy array: arr = np.array([1, 2, 3, 6, 4, 5])\n",
    "b) Find the most frequent value and their indice(s) in the following arrays:\n",
    "i. x = np.array([1,2,3,4,5,1,2,1,1,1])\n",
    "ii. y = np.array([1, 1, 1, 2, 3, 4, 2, 4, 3, 3, ])"
   ]
  },
  {
   "cell_type": "code",
   "execution_count": 3,
   "id": "a130e102-dc78-469e-a3fb-9439cdc488f3",
   "metadata": {},
   "outputs": [
    {
     "name": "stdout",
     "output_type": "stream",
     "text": [
      "Original array is: [1 2 3 6 4 5]\n",
      "(a) Reversed array is: [5 4 6 3 2 1]\n",
      "(b) \n",
      "\t(i) Most frequent element(s) in [1 2 3 4 5 1 2 1 1 1] is(are) :\n",
      "\tElement 1, appearing 5 times at indices [0, 5, 7, 8, 9]\n",
      "\t(ii) Most frequent element(s) in [1 1 1 2 3 4 2 4 3 3] is(are) :\n",
      "\tElement 1, appearing 3 times at indices [0, 1, 2]\n",
      "\tElement 3, appearing 3 times at indices [4, 8, 9]\n"
     ]
    }
   ],
   "source": [
    "# Ans 2. Basic NumPy array \n",
    "arr=np.array([1, 2, 3, 6, 4, 5])\n",
    "print(f\"Original array is: {arr}\")\n",
    "print(f\"(a) Reversed array is: {np.flip(arr)}\")\n",
    "x=np.array([1,2,3,4,5,1,2,1,1,1])\n",
    "maxX=np.bincount(x)\n",
    "maximum=max(maxX)\n",
    "print(f\"(b) \\n\\t(i) Most frequent element(s) in {x} is(are) :\")\n",
    "for i in range(len(maxX)):\n",
    "    if maxX[i] == maximum:\n",
    "        indices = np.where(x == i)[0]\n",
    "        print(f\"\\tElement {i}, appearing {maximum} times at indices {indices.tolist()}\")\n",
    "y=np.array([1, 1, 1, 2, 3, 4, 2, 4, 3, 3])\n",
    "maxX=np.bincount(y)\n",
    "maximum=max(maxX)\n",
    "\n",
    "print(f\"\\t(ii) Most frequent element(s) in {y} is(are) :\")\n",
    "for i in range(len(maxX)):\n",
    "    if maxX[i] == maximum:\n",
    "        indices = np.where(y == i)[0] \n",
    "        print(f\"\\tElement {i}, appearing {maximum} times at indices {indices.tolist()}\")"
   ]
  },
  {
   "cell_type": "markdown",
   "id": "b11be84a-21cf-420f-8158-d1a47994becd",
   "metadata": {},
   "source": [
    "Q.3 For the given 2-D array arr=np.array([10, 20, 30], [40, 50, 60], [70, 80, 90]), access\n",
    "elements using row and column indices as follows:\n",
    "a) Access 1st row, 2nd column\n",
    "b) Access 3rd row, 1st column"
   ]
  },
  {
   "cell_type": "code",
   "execution_count": 19,
   "id": "eff89a68-8c3e-41f5-83b4-996ecd724f0e",
   "metadata": {},
   "outputs": [
    {
     "name": "stdout",
     "output_type": "stream",
     "text": [
      "(a) Element at 1st row, 2nd column: 20\n",
      "(b) Element at 3rd row, 1st column: 70\n"
     ]
    }
   ],
   "source": [
    "# ANS 3.\n",
    "\n",
    "import numpy as np\n",
    "arr = np.array([[10, 20, 30], \n",
    "                [40, 50, 60], \n",
    "                [70, 80, 90]])\n",
    "\n",
    "\n",
    "print(f\"(a) Element at 1st row, 2nd column: {arr[0, 1]}\")\n",
    "\n",
    "print(f\"(b) Element at 3rd row, 1st column: {arr[2, 0]}\")\n"
   ]
  },
  {
   "cell_type": "markdown",
   "id": "a59a1469-7db6-4cbd-9f7d-088558124d00",
   "metadata": {},
   "source": [
    "Q.4 Write program to create an 1-D NumPy array named <<Your Name>> with evenly\n",
    "spaced 25 numbers from 10 to 100 using linspace(). Print the dimensions of the array,\n",
    "shape, total elements, the data type of each element and total number of bytes consumed\n",
    "by the array. Find the transpose of this array using reshape() attribute. Can we do the same\n",
    "with T attribute?"
   ]
  },
  {
   "cell_type": "code",
   "execution_count": 1,
   "id": "8138d78b-e0a7-44c3-8130-31525eebb204",
   "metadata": {},
   "outputs": [
    {
     "name": "stdout",
     "output_type": "stream",
     "text": [
      "Array: [ 10.    13.75  17.5   21.25  25.    28.75  32.5   36.25  40.    43.75\n",
      "  47.5   51.25  55.    58.75  62.5   66.25  70.    73.75  77.5   81.25\n",
      "  85.    88.75  92.5   96.25 100.  ]\n",
      "Dimensions: 1\n",
      "Shape: (25,)\n",
      "Total elements: 25\n",
      "Data type of each element: float64\n",
      "Total bytes consumed: 200\n",
      "\n",
      "Transpose using reshape():\n",
      " [[ 10.  ]\n",
      " [ 13.75]\n",
      " [ 17.5 ]\n",
      " [ 21.25]\n",
      " [ 25.  ]\n",
      " [ 28.75]\n",
      " [ 32.5 ]\n",
      " [ 36.25]\n",
      " [ 40.  ]\n",
      " [ 43.75]\n",
      " [ 47.5 ]\n",
      " [ 51.25]\n",
      " [ 55.  ]\n",
      " [ 58.75]\n",
      " [ 62.5 ]\n",
      " [ 66.25]\n",
      " [ 70.  ]\n",
      " [ 73.75]\n",
      " [ 77.5 ]\n",
      " [ 81.25]\n",
      " [ 85.  ]\n",
      " [ 88.75]\n",
      " [ 92.5 ]\n",
      " [ 96.25]\n",
      " [100.  ]]\n",
      "\n",
      "Transpose using T attribute:\n",
      " [ 10.    13.75  17.5   21.25  25.    28.75  32.5   36.25  40.    43.75\n",
      "  47.5   51.25  55.    58.75  62.5   66.25  70.    73.75  77.5   81.25\n",
      "  85.    88.75  92.5   96.25 100.  ]\n",
      "\n",
      "No, we cannot use the T attribute for a 1D array to get a column vector.\n",
      "T attribute only swaps axes and has no effect on a 1D array.\n"
     ]
    }
   ],
   "source": [
    "# ANS 4.\n",
    "\n",
    "import numpy as np\n",
    "Ashpreet = np.linspace(10, 100, 25)\n",
    "\n",
    "print(\"Array:\", Ashpreet)\n",
    "print(\"Dimensions:\", Ashpreet.ndim)\n",
    "print(\"Shape:\", Ashpreet.shape)\n",
    "print(\"Total elements:\", Ashpreet.size)\n",
    "print(\"Data type of each element:\", Ashpreet.dtype)\n",
    "print(\"Total bytes consumed:\", Ashpreet.nbytes)\n",
    "\n",
    "\n",
    "Ashpreet_transpose = Ashpreet.reshape(25, 1)\n",
    "print(\"\\nTranspose using reshape():\\n\", Ashpreet_transpose)\n",
    "\n",
    "Ashpreet_T = Ashpreet.T\n",
    "print(\"\\nTranspose using T attribute:\\n\", Ashpreet_T)\n",
    "\n",
    "print(\"\\nNo, we cannot use the T attribute for a 1D array to get a column vector.\")\n",
    "print(\"T attribute only swaps axes and has no effect on a 1D array.\")\n"
   ]
  },
  {
   "cell_type": "markdown",
   "id": "7f41c36e-4237-4d6f-b369-fbe2e65a1dd7",
   "metadata": {},
   "source": [
    "Q5. Create a 2-D Array of three rows and four columns, named ucs420_<your_name>>\n",
    "with following values – 10, 20, 30, 40, 50, 60, 70, 80, 90, 15, 20, 35. Compute the mean,\n",
    "median, max, min, unique elements. Reshape the array to four rows and three columns and\n",
    "name it as reshaped_ ucs420_<your_name>>. Resize the array to two rows and three\n",
    "columns and name it as resized_ ucs420_<your_name>>."
   ]
  },
  {
   "cell_type": "code",
   "execution_count": 23,
   "id": "ff71b29e-b19a-4f91-8375-75b077a5805d",
   "metadata": {},
   "outputs": [
    {
     "name": "stdout",
     "output_type": "stream",
     "text": [
      "Mean: 43.333333333333336\n",
      "Median: 37.5\n",
      "Max: 90\n",
      "Min: 10\n",
      "Unique elements: [10 15 20 30 35 40 50 60 70 80 90]\n",
      "\n",
      "Reshaped array (4x3):\n",
      " [[10 20 30]\n",
      " [40 50 60]\n",
      " [70 80 90]\n",
      " [15 20 35]]\n",
      "\n",
      "Resized array (2x3):\n",
      " [[10 20 30]\n",
      " [40 50 60]]\n"
     ]
    }
   ],
   "source": [
    "# ANS 5.\n",
    "\n",
    "\n",
    "import numpy as np\n",
    "ucs420_Ashpreet = np.array([[10, 20, 30, 40],\n",
    "                           [50, 60, 70, 80],\n",
    "                           [90, 15, 20, 35]])\n",
    "\n",
    "mean_value = np.mean(ucs420_Ashpreet)\n",
    "median_value = np.median(ucs420_Ashpreet)\n",
    "max_value = np.max(ucs420_Ashpreet)\n",
    "min_value = np.min(ucs420_Ashpreet)\n",
    "unique_elements = np.unique(ucs420_Ashpreet)\n",
    "\n",
    "print(\"Mean:\", mean_value)\n",
    "print(\"Median:\", median_value)\n",
    "print(\"Max:\", max_value)\n",
    "print(\"Min:\", min_value)\n",
    "print(\"Unique elements:\", unique_elements)\n",
    "\n",
    "reshaped_ucs420_Ashpreet = ucs420_Ashpreet.reshape(4, 3)\n",
    "print(\"\\nReshaped array (4x3):\\n\", reshaped_ucs420_Ashpreet)\n",
    "\n",
    "resized_ucs420_Ashpreet = np.resize(ucs420_Ashpreet, (2, 3))\n",
    "print(\"\\nResized array (2x3):\\n\", resized_ucs420_Ashpreet)"
   ]
  },
  {
   "cell_type": "code",
   "execution_count": null,
   "id": "d6d89312-213f-4326-970a-feb6ca643e25",
   "metadata": {},
   "outputs": [],
   "source": []
  }
 ],
 "metadata": {
  "kernelspec": {
   "display_name": "Python [conda env:base] *",
   "language": "python",
   "name": "conda-base-py"
  },
  "language_info": {
   "codemirror_mode": {
    "name": "ipython",
    "version": 3
   },
   "file_extension": ".py",
   "mimetype": "text/x-python",
   "name": "python",
   "nbconvert_exporter": "python",
   "pygments_lexer": "ipython3",
   "version": "3.12.7"
  }
 },
 "nbformat": 4,
 "nbformat_minor": 5
}
