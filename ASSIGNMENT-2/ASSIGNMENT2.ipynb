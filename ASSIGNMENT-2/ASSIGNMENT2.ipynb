{
 "cells": [
  {
   "cell_type": "code",
   "execution_count": 1,
   "id": "588eba5b-8451-497f-ba81-b17a1e2b925b",
   "metadata": {},
   "outputs": [
    {
     "name": "stdout",
     "output_type": "stream",
     "text": [
      "Initial list:  [10, 20, 30, 40, 50, 60, 70, 80]\n",
      "(i)  [10, 20, 30, 40, 50, 60, 70, 80, 200, 300]\n",
      "(ii)  [20, 40, 50, 60, 70, 80, 200, 300]\n",
      "(iii)  [20, 40, 50, 60, 70, 80, 200, 300]\n",
      "(iv)  [300, 200, 80, 70, 60, 50, 40, 20]\n"
     ]
    }
   ],
   "source": [
    "# ANS 1.\n",
    "# CREATING LIST AND DOING LIST OPERATIONS\n",
    "lst1=[10,20,30,40,50,60,70,80]\n",
    "print(\"Initial list: \",lst1)\n",
    "lst1.append(200)\n",
    "lst1.append(300)\n",
    "print(\"(i) \",lst1)\n",
    "lst1.remove(10)\n",
    "lst1.remove(30)\n",
    "print(\"(ii) \",lst1)\n",
    "lst1.sort()\n",
    "print(\"(iii) \",lst1)\n",
    "lst1.sort(reverse=True)\n",
    "print(\"(iv) \",lst1)"
   ]
  },
  {
   "cell_type": "code",
   "execution_count": 15,
   "id": "1b8debeb-5e75-4e34-a77f-44574a0b9d28",
   "metadata": {},
   "outputs": [
    {
     "name": "stdout",
     "output_type": "stream",
     "text": [
      "(i) Highest score is 92 and its index is 5\n",
      "(ii) Lowest score is 45 and its count is 2\n",
      "(iii) Reversed tuple is (45, 58, 92, 89, 45.4, 76, 89.5, 45) and this as list is [45, 89.5, 76, 45.4, 89, 92, 58, 45]\n"
     ]
    },
    {
     "name": "stdin",
     "output_type": "stream",
     "text": [
      "Enter a score to check: 76\n"
     ]
    },
    {
     "name": "stdout",
     "output_type": "stream",
     "text": [
      "(iv) Score 76 is present in (45, 89.5, 76, 45.4, 89, 92, 58, 45) at index 2\n"
     ]
    }
   ],
   "source": [
    "# ANS 2.\n",
    "# CREATING TUPLE OF MARKS SCORED AND PERFORMING OPERTAIONS ON IT\n",
    "scores=(45, 89.5, 76, 45.4, 89, 92, 58, 45)\n",
    "print(f\"(i) Highest score is {max(scores)} and its index is {scores.index(max(scores))}\")\n",
    "print(f\"(ii) Lowest score is {min(scores)} and its count is {scores.count(min(scores))}\")\n",
    "rev_scores=scores[::-1]\n",
    "print(f\"(iii) Reversed tuple is {rev_scores} and this as list is {list(scores)}\")\n",
    "check=int(input(\"Enter a score to check:\"))\n",
    "if check in scores:\n",
    "    print(f\"(iv) Score {check} is present in {scores} at index {scores.index(check)}\")\n",
    "else:\n",
    "    print(f\"(iv) Score {check} is not present in {scores}\")"
   ]
  },
  {
   "cell_type": "code",
   "execution_count": 17,
   "id": "3a94c672-9194-4714-a91a-a346724960bd",
   "metadata": {},
   "outputs": [
    {
     "name": "stdout",
     "output_type": "stream",
     "text": [
      "List of 100 random numbers: [752, 256, 769, 192, 473, 824, 685, 328, 475, 180, 490, 378, 268, 427, 611, 767, 841, 148, 739, 203, 253, 630, 799, 750, 801, 562, 840, 515, 741, 837, 894, 794, 328, 121, 283, 791, 313, 176, 440, 163, 602, 114, 570, 833, 528, 599, 720, 284, 839, 500, 304, 211, 849, 514, 369, 331, 402, 488, 649, 182, 638, 190, 519, 770, 792, 108, 499, 804, 870, 660, 874, 564, 785, 852, 121, 724, 863, 274, 715, 353, 588, 209, 394, 190, 642, 443, 356, 462, 776, 338, 699, 410, 152, 294, 472, 158, 451, 432, 544, 313]\n",
      "\n",
      "(i) There are 41 numbers in random list: [769, 473, 685, 475, 427, 611, 767, 841, 739, 203, 253, 799, 801, 515, 741, 837, 121, 283, 791, 313, 163, 833, 599, 839, 211, 849, 369, 331, 649, 519, 499, 785, 121, 863, 715, 353, 209, 443, 699, 451, 313]\n",
      "\n",
      "(ii) There are 59 numbers in random list: [752, 256, 192, 824, 328, 180, 490, 378, 268, 148, 630, 750, 562, 840, 894, 794, 328, 176, 440, 602, 114, 570, 528, 720, 284, 500, 304, 514, 402, 488, 182, 638, 190, 770, 792, 108, 804, 870, 660, 874, 564, 852, 724, 274, 588, 394, 190, 642, 356, 462, 776, 338, 410, 152, 294, 472, 158, 432, 544]\n",
      "\n",
      "(iii) There are 14 prime numbers in random list: [769, 739, 283, 313, 163, 599, 839, 211, 331, 499, 863, 353, 443, 313]\n",
      "\n"
     ]
    }
   ],
   "source": [
    "# ANS 3.\n",
    "# CREATING LIST OF RANDOM NUMBERS AND DOING OPERATIONS ON IT\n",
    "import random\n",
    "import math\n",
    "def prime(n):\n",
    "    for i in range(2,int(math.sqrt(n))+1):\n",
    "        if n%i==0:\n",
    "            return False\n",
    "    return True\n",
    "    \n",
    "lst2=[random.randint(100,900) for num in range(100)]\n",
    "print(\"List of 100 random numbers:\",lst2)\n",
    "print()\n",
    "odd=[x for x in lst2 if x%2!=0]\n",
    "print(\"(i) There are\",len(odd),\"numbers in random list:\",odd)\n",
    "print()\n",
    "even=[x for x in lst2 if x%2==0]\n",
    "print(\"(ii) There are\",len(even),\"numbers in random list:\",even)\n",
    "print()\n",
    "prime=[x for x in lst2 if prime(x)]\n",
    "print(\"(iii) There are\",len(prime),\"prime numbers in random list:\",prime)\n",
    "print()"
   ]
  },
  {
   "cell_type": "code",
   "execution_count": 25,
   "id": "4e87e235-1a32-4198-9abc-f64439f99f2c",
   "metadata": {},
   "outputs": [
    {
     "name": "stdout",
     "output_type": "stream",
     "text": [
      "(i) Unique scores scored by both the teams are: {34, 45, 78, 23, 56, 90}\n",
      "(ii) Scores common to both teams are: {90, 78}\n",
      "(iii) Scores exclusive to each team are {56, 34, 45, 23}\n",
      "(iv) A is not a subset of B or B is not a superset of A\n"
     ]
    },
    {
     "name": "stdin",
     "output_type": "stream",
     "text": [
      "Enter a score to remove: 34\n"
     ]
    },
    {
     "name": "stdout",
     "output_type": "stream",
     "text": [
      "(v) 34 is removed from set A which now becomes {56, 90, 78}\n"
     ]
    }
   ],
   "source": [
    "# ANS 4.\n",
    "# SCORES OF TWO TEAMS STORED AS SET AND USING SET FUNCTIONS\n",
    "A={34, 56, 78, 90}\n",
    "B={78, 45, 90, 23} \n",
    "print(f\"(i) Unique scores scored by both the teams are: {A|B}\")\n",
    "print(f\"(ii) Scores common to both teams are: {A&B}\")\n",
    "print(f\"(iii) Scores exclusive to each team are {(A-B) | (B-A)}\")\n",
    "if (A|B)==B and (A&B)==A:\n",
    "    print(f\"(iv) A is subset of B or B is superset of A\")\n",
    "else:\n",
    "    print(f\"(iv) A is not a subset of B or B is not a superset of A\")\n",
    "X=int(input(\"Enter a score to remove:\"))\n",
    "if X in A :\n",
    "    A.remove(X)\n",
    "    print(f\"(v) {X} is removed from set A which now becomes {A}\")\n",
    "else:\n",
    "    print(f\"(v) {X} is not present in {A}\")"
   ]
  },
  {
   "cell_type": "code",
   "execution_count": 31,
   "id": "ecbc6489-8dc9-419a-9910-6875dc0a45bf",
   "metadata": {},
   "outputs": [
    {
     "name": "stdout",
     "output_type": "stream",
     "text": [
      "After renaming the dictionary becomes {'name': 'Kelly', 'age': 25, 'salary': 8000, 'location': 'New york'}\n"
     ]
    }
   ],
   "source": [
    "# ANS 5.\n",
    "# RENAMING A KEY IN DICTIONARY\n",
    "sample_dict={\n",
    "    \"name\":\"Kelly\",\n",
    "    \"age\":25,\n",
    "    \"salary\":8000,\n",
    "    \"city\":\"New york\"\n",
    "}\n",
    "sample_dict={\"location\" if x==\"city\" else x: y for x,y in sample_dict.items() }\n",
    "print(f\"After renaming the dictionary becomes {sample_dict}\")"
   ]
  },
  {
   "cell_type": "code",
   "execution_count": null,
   "id": "a07292c3-d97e-4164-8f90-4b0431456995",
   "metadata": {},
   "outputs": [],
   "source": []
  }
 ],
 "metadata": {
  "kernelspec": {
   "display_name": "Python [conda env:base] *",
   "language": "python",
   "name": "conda-base-py"
  },
  "language_info": {
   "codemirror_mode": {
    "name": "ipython",
    "version": 3
   },
   "file_extension": ".py",
   "mimetype": "text/x-python",
   "name": "python",
   "nbconvert_exporter": "python",
   "pygments_lexer": "ipython3",
   "version": "3.12.7"
  }
 },
 "nbformat": 4,
 "nbformat_minor": 5
}
